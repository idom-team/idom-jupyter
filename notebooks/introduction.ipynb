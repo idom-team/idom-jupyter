{
 "cells": [
  {
   "cell_type": "markdown",
   "metadata": {},
   "source": [
    "# IDOM - A Brief Introduction\n",
    "\n",
    "IDOM is an easily installable and powerful Python package for:\n",
    "\n",
    "- Making responsive user interfaces with pure Python\n",
    "\n",
    "- Doing so with a declarative API based on React's Hooks\n",
    "\n",
    "- And rendering those layouts on the web or in Jupyter Notebooks\n",
    "\n",
    "This Notebook shows a basic example which is explained in more depth in IDOM's documentation where you can also find more examples.\n",
    "\n",
    "# Where Can You Learn More?\n",
    "\n",
    "Go to https://idom-docs.herokuapp.com/ for:\n",
    "\n",
    "- more documentation\n",
    "\n",
    "- installation instructions\n",
    "\n",
    "For trouble shooting/support:\n",
    "\n",
    "- https://github.com/idom-team/idom/issues/new/choose"
   ]
  },
  {
   "cell_type": "code",
   "execution_count": null,
   "metadata": {},
   "outputs": [],
   "source": [
    "import idom\n",
    "from idom_jupyter import display\n",
    "\n",
    "\n",
    "@idom.element\n",
    "def ClickCount():\n",
    "    count, set_count = idom.hooks.use_state(0)\n",
    "\n",
    "    return idom.html.button(\n",
    "        {\"onClick\": lambda event: set_count(count + 1)},\n",
    "        [f\"Click count: {count}\"],\n",
    "    )\n",
    "\n",
    "\n",
    "display(ClickCount)"
   ]
  }
 ],
 "metadata": {
  "kernelspec": {
   "display_name": "Python 3",
   "language": "python",
   "name": "python3"
  },
  "language_info": {
   "codemirror_mode": {
    "name": "ipython",
    "version": 3
   },
   "file_extension": ".py",
   "mimetype": "text/x-python",
   "name": "python",
   "nbconvert_exporter": "python",
   "pygments_lexer": "ipython3",
   "version": "3.8.2"
  }
 },
 "nbformat": 4,
 "nbformat_minor": 4
}
